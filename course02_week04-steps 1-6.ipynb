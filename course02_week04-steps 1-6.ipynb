{
 "cells": [
  {
   "cell_type": "code",
   "execution_count": 25,
   "metadata": {},
   "outputs": [],
   "source": [
    "from pyspark.sql import SparkSession, Window\n",
    "from pyspark.sql.types import *\n",
    "from pyspark.sql.functions import explode, collect_list, size, col, row_number, sort_array, udf"
   ]
  },
  {
   "cell_type": "code",
   "execution_count": 26,
   "metadata": {},
   "outputs": [],
   "source": [
    "sparkSession = SparkSession.builder.enableHiveSupport().master(\"local\").getOrCreate()"
   ]
  },
  {
   "cell_type": "code",
   "execution_count": 27,
   "metadata": {},
   "outputs": [],
   "source": [
    "graphPath = \"/data/graphDFSample\""
   ]
  },
  {
   "cell_type": "code",
   "execution_count": 28,
   "metadata": {},
   "outputs": [
    {
     "name": "stdout",
     "output_type": "stream",
     "text": [
      "+------+--------------------+----------+\n",
      "|friend|               users|users_size|\n",
      "+------+--------------------+----------+\n",
      "|   148|[65051219, 146311...|         4|\n",
      "|  5518|          [58573511]|         1|\n",
      "|  9900|          [36844066]|         1|\n",
      "+------+--------------------+----------+\n",
      "only showing top 3 rows\n",
      "\n"
     ]
    }
   ],
   "source": [
    "reversedGraph = sparkSession.read.parquet(graphPath) \\\n",
    "    .withColumn(\"friend\", explode('friends')) \\\n",
    "    .groupBy(\"friend\") \\\n",
    "    .agg(collect_list(\"user\").alias(\"users\")) \\\n",
    "    .withColumn(\"users_size\", size(\"users\"))\n",
    "\n",
    "reversedGraph.show(3)"
   ]
  },
  {
   "cell_type": "code",
   "execution_count": 29,
   "metadata": {},
   "outputs": [
    {
     "name": "stdout",
     "output_type": "stream",
     "text": [
      "+------+--------------------+----------+\n",
      "|friend|        users_sorted|users_size|\n",
      "+------+--------------------+----------+\n",
      "|   148|[3195315, 1463110...|         4|\n",
      "|  5518|          [58573511]|         1|\n",
      "|  9900|          [36844066]|         1|\n",
      "+------+--------------------+----------+\n",
      "only showing top 3 rows\n",
      "\n"
     ]
    }
   ],
   "source": [
    "reversedGraph = reversedGraph.select(reversedGraph.friend, \\\n",
    "                                     sort_array(reversedGraph.users).alias(\"users_sorted\"), \\\n",
    "                                     \"users_size\")\n",
    "reversedGraph.show(3)"
   ]
  },
  {
   "cell_type": "code",
   "execution_count": 30,
   "metadata": {},
   "outputs": [
    {
     "name": "stdout",
     "output_type": "stream",
     "text": [
      "+------+--------------------+----------+\n",
      "|friend|        users_sorted|users_size|\n",
      "+------+--------------------+----------+\n",
      "|   148|[3195315, 1463110...|         4|\n",
      "| 36538|[5506394, 6170161...|        32|\n",
      "| 41751|[41811068, 60873111]|         2|\n",
      "+------+--------------------+----------+\n",
      "only showing top 3 rows\n",
      "\n"
     ]
    }
   ],
   "source": [
    "reversedGraph = reversedGraph.where(reversedGraph.users_size > '1')\n",
    "reversedGraph.show(3)"
   ]
  },
  {
   "cell_type": "code",
   "execution_count": 39,
   "metadata": {},
   "outputs": [],
   "source": [
    "def serializer(input_array):\n",
    "    out_array = []\n",
    "    count = 0\n",
    "    while count < len(input_array):\n",
    "        for count_internal in range (count+1, len(input_array)):\n",
    "            out_array.append((input_array[count], input_array[count_internal]))\n",
    "        count += 1\n",
    "    return(out_array)"
   ]
  },
  {
   "cell_type": "code",
   "execution_count": 47,
   "metadata": {},
   "outputs": [],
   "source": [
    "serializer_udf = udf(lambda y: serializer(y), \n",
    "                     ArrayType(StructType((StructField(\"1\", IntegerType(), False),StructField(\"2\", IntegerType(), False)))))"
   ]
  },
  {
   "cell_type": "code",
   "execution_count": 50,
   "metadata": {},
   "outputs": [
    {
     "name": "stdout",
     "output_type": "stream",
     "text": [
      "+------+--------------------+----------+\n",
      "|friend|        users_sorted|users_size|\n",
      "+------+--------------------+----------+\n",
      "|   148|[[3195315,1463110...|         4|\n",
      "| 36538|[[5506394,6170161...|        32|\n",
      "| 41751|[[41811068,608731...|         2|\n",
      "+------+--------------------+----------+\n",
      "only showing top 3 rows\n",
      "\n"
     ]
    }
   ],
   "source": [
    "reversedGraph = reversedGraph.select(reversedGraph.friend, \\\n",
    "                                     serializer_udf(reversedGraph.users_sorted).alias(\"users_sorted\"), \\\n",
    "                                     \"users_size\")\n",
    "reversedGraph.show(3)"
   ]
  },
  {
   "cell_type": "code",
   "execution_count": null,
   "metadata": {},
   "outputs": [],
   "source": []
  }
 ],
 "metadata": {
  "kernelspec": {
   "display_name": "Python 2",
   "language": "python",
   "name": "python2"
  },
  "language_info": {
   "codemirror_mode": {
    "name": "ipython",
    "version": 2
   },
   "file_extension": ".py",
   "mimetype": "text/x-python",
   "name": "python",
   "nbconvert_exporter": "python",
   "pygments_lexer": "ipython2",
   "version": "2.7.12"
  }
 },
 "nbformat": 4,
 "nbformat_minor": 2
}
