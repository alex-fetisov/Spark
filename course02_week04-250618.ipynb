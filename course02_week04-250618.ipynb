{
 "cells": [
  {
   "cell_type": "code",
   "execution_count": 4,
   "metadata": {},
   "outputs": [],
   "source": [
    "from pyspark.sql import SparkSession, Window\n",
    "from pyspark.sql.types import *\n",
    "from pyspark.sql.functions import explode, collect_list, size, col, row_number, sort_array, udf, count"
   ]
  },
  {
   "cell_type": "code",
   "execution_count": 5,
   "metadata": {},
   "outputs": [],
   "source": [
    "sparkSession = SparkSession.builder.enableHiveSupport().master(\"local\").getOrCreate()"
   ]
  },
  {
   "cell_type": "code",
   "execution_count": 6,
   "metadata": {},
   "outputs": [],
   "source": [
    "graphPath = \"/data/graphDFSample\""
   ]
  },
  {
   "cell_type": "code",
   "execution_count": 7,
   "metadata": {},
   "outputs": [
    {
     "name": "stdout",
     "output_type": "stream",
     "text": [
      "+------+--------------------+----------+\n",
      "|friend|               users|users_size|\n",
      "+------+--------------------+----------+\n",
      "|   148|[65051219, 146311...|         4|\n",
      "|  5518|          [58573511]|         1|\n",
      "|  9900|          [36844066]|         1|\n",
      "+------+--------------------+----------+\n",
      "only showing top 3 rows\n",
      "\n"
     ]
    }
   ],
   "source": [
    "reversedGraph = sparkSession.read.parquet(graphPath) \\\n",
    "    .withColumn(\"friend\", explode('friends')) \\\n",
    "    .groupBy(\"friend\") \\\n",
    "    .agg(collect_list(\"user\").alias(\"users\")) \\\n",
    "    .withColumn(\"users_size\", size(\"users\"))\n",
    "\n",
    "reversedGraph.show(3)"
   ]
  },
  {
   "cell_type": "code",
   "execution_count": 8,
   "metadata": {},
   "outputs": [
    {
     "name": "stdout",
     "output_type": "stream",
     "text": [
      "+------+--------------------+----------+\n",
      "|friend|        users_sorted|users_size|\n",
      "+------+--------------------+----------+\n",
      "|   148|[3195315, 1463110...|         4|\n",
      "| 36538|[5506394, 6170161...|        32|\n",
      "| 41751|[41811068, 60873111]|         2|\n",
      "+------+--------------------+----------+\n",
      "only showing top 3 rows\n",
      "\n"
     ]
    }
   ],
   "source": [
    "reversedGraph = reversedGraph.select(reversedGraph.friend, \\\n",
    "                                     sort_array(reversedGraph.users).alias(\"users_sorted\"), \\\n",
    "                                     \"users_size\") \\\n",
    "                            .where(reversedGraph.users_size > '1')\n",
    "reversedGraph.show(3)"
   ]
  },
  {
   "cell_type": "code",
   "execution_count": 9,
   "metadata": {},
   "outputs": [
    {
     "name": "stdout",
     "output_type": "stream",
     "text": [
      "root\n",
      " |-- friend: integer (nullable = true)\n",
      " |-- users_sorted: array (nullable = true)\n",
      " |    |-- element: integer (containsNull = true)\n",
      " |-- users_size: integer (nullable = false)\n",
      "\n"
     ]
    }
   ],
   "source": [
    "reversedGraph.printSchema()"
   ]
  },
  {
   "cell_type": "code",
   "execution_count": 10,
   "metadata": {},
   "outputs": [],
   "source": [
    "def serializer(input_array):\n",
    "    out_array = []\n",
    "    count = 0\n",
    "    while count < len(input_array):\n",
    "        for count_internal in range (count+1, len(input_array)):\n",
    "            out_array.append((input_array[count], input_array[count_internal]))\n",
    "        count += 1\n",
    "    return(out_array)"
   ]
  },
  {
   "cell_type": "code",
   "execution_count": 11,
   "metadata": {},
   "outputs": [],
   "source": [
    "serializer_udf = udf(lambda y: serializer(y), \n",
    "                     ArrayType(StructType(\n",
    "                         (StructField(\"1\", IntegerType(), True),\n",
    "                          StructField(\"2\", IntegerType(), True)))))"
   ]
  },
  {
   "cell_type": "code",
   "execution_count": 12,
   "metadata": {},
   "outputs": [
    {
     "name": "stdout",
     "output_type": "stream",
     "text": [
      "+--------------------+----------+\n",
      "|               users|users_size|\n",
      "+--------------------+----------+\n",
      "|[[3195315,1463110...|         4|\n",
      "|[[5506394,6170161...|        32|\n",
      "|[[41811068,608731...|         2|\n",
      "+--------------------+----------+\n",
      "only showing top 3 rows\n",
      "\n"
     ]
    }
   ],
   "source": [
    "reversedGraph = reversedGraph.select(serializer_udf(reversedGraph.users_sorted).alias(\"users\"), \\\n",
    "                                    \"users_size\")\n",
    "reversedGraph.show(3)"
   ]
  },
  {
   "cell_type": "code",
   "execution_count": 13,
   "metadata": {},
   "outputs": [
    {
     "name": "stdout",
     "output_type": "stream",
     "text": [
      "root\n",
      " |-- users: array (nullable = true)\n",
      " |    |-- element: struct (containsNull = true)\n",
      " |    |    |-- 1: integer (nullable = true)\n",
      " |    |    |-- 2: integer (nullable = true)\n",
      " |-- users_size: integer (nullable = false)\n",
      "\n"
     ]
    }
   ],
   "source": [
    "reversedGraph.printSchema()"
   ]
  },
  {
   "cell_type": "code",
   "execution_count": 14,
   "metadata": {},
   "outputs": [
    {
     "name": "stdout",
     "output_type": "stream",
     "text": [
      "+------------------+----------+\n",
      "|               col|users_size|\n",
      "+------------------+----------+\n",
      "|[3195315,14631101]|         4|\n",
      "|[3195315,14957568]|         4|\n",
      "|[3195315,65051219]|         4|\n",
      "+------------------+----------+\n",
      "only showing top 3 rows\n",
      "\n"
     ]
    }
   ],
   "source": [
    "reversedGraph_2 = reversedGraph.select(explode(reversedGraph.users), \\\n",
    "                                      \"users_size\")\n",
    "reversedGraph_2.show(3)"
   ]
  },
  {
   "cell_type": "code",
   "execution_count": 15,
   "metadata": {},
   "outputs": [
    {
     "name": "stdout",
     "output_type": "stream",
     "text": [
      "root\n",
      " |-- col: struct (nullable = true)\n",
      " |    |-- 1: integer (nullable = true)\n",
      " |    |-- 2: integer (nullable = true)\n",
      " |-- users_size: integer (nullable = false)\n",
      "\n"
     ]
    }
   ],
   "source": [
    "reversedGraph_2.printSchema()"
   ]
  },
  {
   "cell_type": "code",
   "execution_count": 16,
   "metadata": {},
   "outputs": [
    {
     "name": "stdout",
     "output_type": "stream",
     "text": [
      "+--------+--------+\n",
      "|       1|       2|\n",
      "+--------+--------+\n",
      "| 3195315|14631101|\n",
      "| 3195315|14957568|\n",
      "| 3195315|65051219|\n",
      "|14631101|14957568|\n",
      "|14631101|65051219|\n",
      "|14957568|65051219|\n",
      "| 5506394| 6170161|\n",
      "| 5506394| 6846874|\n",
      "| 5506394|15305594|\n",
      "| 5506394|17133226|\n",
      "+--------+--------+\n",
      "only showing top 10 rows\n",
      "\n"
     ]
    }
   ],
   "source": [
    "reversedGraph_3 = reversedGraph_2.select('col.*')\n",
    "reversedGraph_3.show(10)"
   ]
  },
  {
   "cell_type": "code",
   "execution_count": 17,
   "metadata": {},
   "outputs": [],
   "source": [
    "reversedGraph_4 = reversedGraph_3.groupBy(\"1\", \"2\").agg(count(\"*\").alias(\"count\"))\n",
    "\n",
    "reversedGraph_4.show(5)"
   ]
  },
  {
   "cell_type": "code",
   "execution_count": 20,
   "metadata": {},
   "outputs": [
    {
     "name": "stdout",
     "output_type": "stream",
     "text": [
      "root\n",
      " |-- 1: integer (nullable = true)\n",
      " |-- 2: integer (nullable = true)\n",
      " |-- count: long (nullable = false)\n",
      "\n"
     ]
    }
   ],
   "source": [
    "reversedGraph_4.printSchema()"
   ]
  },
  {
   "cell_type": "code",
   "execution_count": 23,
   "metadata": {},
   "outputs": [],
   "source": [
    "window = Window.orderBy(col(\"count\").desc())\n",
    "    \n",
    "top50 = reversedGraph_4.withColumn(\"row_number\", row_number().over(window)) \\\n",
    "            .filter(col(\"row_number\") < 50) \\\n",
    "            .select(col(\"count\"), col(\"1\"), col(\"2\")) \\\n",
    "            .orderBy(col(\"count\").desc(), col(\"1\").desc(), col(\"2\").desc()) \\\n",
    "            .collect()"
   ]
  },
  {
   "cell_type": "code",
   "execution_count": 24,
   "metadata": {},
   "outputs": [
    {
     "name": "stdout",
     "output_type": "stream",
     "text": [
      "3206 27967558 42973992\n",
      "3130 20158643 42973992\n",
      "3066 22582764 42973992\n",
      "3044 21864412 51640390\n",
      "3021 17139850 51640390\n",
      "3010 14985079 51640390\n",
      "2970 17139850 21864412\n",
      "2913 20158643 27967558\n",
      "2903 22280814 51151280\n",
      "2870 23848749 51640390\n",
      "2855 20158643 22582764\n",
      "2849 20158643 44996025\n",
      "2846 22280814 42973992\n",
      "2784 21864412 23848749\n",
      "2779 31964081 51640390\n",
      "2776 39205988 51640390\n",
      "2754 17139850 23848749\n",
      "2749 22582764 27967558\n",
      "2728 50561859 51640390\n",
      "2724 15485897 51640390\n",
      "2700 28135661 42973992\n",
      "2655 22280814 27967558\n",
      "2653 42973992 43548989\n",
      "2639 26755857 51640390\n",
      "2621 14635589 51640390\n",
      "2608 15485897 17139850\n",
      "2606 17139850 26755857\n",
      "2601 21864412 39205988\n",
      "2600 8406745 51640390\n",
      "2599 37735419 51640390\n",
      "2597 20158643 28135661\n",
      "2585 40003405 42973992\n",
      "2585 21864412 31964081\n",
      "2581 27967558 43548989\n",
      "2579 23848749 31964081\n",
      "2578 27967558 28135661\n",
      "2578 15485897 21864412\n",
      "2577 42973992 64755069\n",
      "2574 51151280 57077210\n",
      "2573 20158643 43548989\n",
      "2566 21864412 26755857\n",
      "2564 22280814 64755069\n",
      "2561 42973992 44996025\n",
      "2556 17139850 39205988\n",
      "2543 23848749 39205988\n",
      "2521 17139850 31964081\n",
      "2515 27967558 44996025\n",
      "2506 41629539 51640390\n",
      "2505 51151280 64755069\n"
     ]
    }
   ],
   "source": [
    "for val in top50:\n",
    "    print '%s %s %s' % val"
   ]
  },
  {
   "cell_type": "code",
   "execution_count": null,
   "metadata": {},
   "outputs": [],
   "source": []
  }
 ],
 "metadata": {
  "kernelspec": {
   "display_name": "Python 2",
   "language": "python",
   "name": "python2"
  },
  "language_info": {
   "codemirror_mode": {
    "name": "ipython",
    "version": 2
   },
   "file_extension": ".py",
   "mimetype": "text/x-python",
   "name": "python",
   "nbconvert_exporter": "python",
   "pygments_lexer": "ipython2",
   "version": "2.7.12"
  }
 },
 "nbformat": 4,
 "nbformat_minor": 2
}
