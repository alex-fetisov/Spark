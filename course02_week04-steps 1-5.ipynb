{
 "cells": [
  {
   "cell_type": "code",
   "execution_count": 2,
   "metadata": {},
   "outputs": [],
   "source": [
    "from pyspark.sql import SparkSession, Window\n",
    "from pyspark.sql.functions import explode, collect_list, size, col, row_number, sort_array"
   ]
  },
  {
   "cell_type": "code",
   "execution_count": 3,
   "metadata": {},
   "outputs": [],
   "source": [
    "sparkSession = SparkSession.builder.enableHiveSupport().master(\"local\").getOrCreate()"
   ]
  },
  {
   "cell_type": "code",
   "execution_count": 4,
   "metadata": {},
   "outputs": [],
   "source": [
    "graphPath = \"/data/graphDFSample\""
   ]
  },
  {
   "cell_type": "markdown",
   "metadata": {},
   "source": [
    "<p>1. Create a new column “friend” by exploding of column “friends” (like in the demo iPython notebook)<br>\n",
    "2. group the resulting dataframe by the column “friend” (like in the demo iPython notebook)<br>\n",
    "3. create a column “users” by collecting all users with the same id in the column “friend” together (like in the demo iPython notebook)</p>"
   ]
  },
  {
   "cell_type": "code",
   "execution_count": 21,
   "metadata": {},
   "outputs": [
    {
     "name": "stdout",
     "output_type": "stream",
     "text": [
      "+------+--------------------+----------+\n",
      "|friend|               users|users_size|\n",
      "+------+--------------------+----------+\n",
      "|   148|[65051219, 146311...|         4|\n",
      "|  5518|          [58573511]|         1|\n",
      "|  9900|          [36844066]|         1|\n",
      "+------+--------------------+----------+\n",
      "only showing top 3 rows\n",
      "\n"
     ]
    }
   ],
   "source": [
    "reversedGraph = sparkSession.read.parquet(graphPath) \\\n",
    "    .withColumn(\"friend\", explode('friends')) \\\n",
    "    .groupBy(\"friend\") \\\n",
    "    .agg(collect_list(\"user\").alias(\"users\")) \\\n",
    "    .withColumn(\"users_size\", size(\"users\"))\n",
    "\n",
    "reversedGraph.show(3)"
   ]
  },
  {
   "cell_type": "markdown",
   "metadata": {},
   "source": [
    "<p>4. sort the elements in the column “users” by the function sort_array</p>"
   ]
  },
  {
   "cell_type": "code",
   "execution_count": 22,
   "metadata": {},
   "outputs": [
    {
     "name": "stdout",
     "output_type": "stream",
     "text": [
      "+------+--------------------+----------+\n",
      "|friend|        users_sorted|users_size|\n",
      "+------+--------------------+----------+\n",
      "|   148|[3195315, 1463110...|         4|\n",
      "|  5518|          [58573511]|         1|\n",
      "|  9900|          [36844066]|         1|\n",
      "+------+--------------------+----------+\n",
      "only showing top 3 rows\n",
      "\n"
     ]
    }
   ],
   "source": [
    "reversedGraph = reversedGraph.select(reversedGraph.friend, \\\n",
    "                                     sort_array(reversedGraph.users).alias(\"users_sorted\"), \\\n",
    "                                     \"users_size\")\n",
    "reversedGraph.show(3)"
   ]
  },
  {
   "cell_type": "markdown",
   "metadata": {},
   "source": [
    "<p>5. filter only the rows which have more than 1 element in the column “users”</p>"
   ]
  },
  {
   "cell_type": "code",
   "execution_count": 24,
   "metadata": {},
   "outputs": [
    {
     "name": "stdout",
     "output_type": "stream",
     "text": [
      "+------+--------------------+----------+\n",
      "|friend|        users_sorted|users_size|\n",
      "+------+--------------------+----------+\n",
      "|   148|[3195315, 1463110...|         4|\n",
      "| 36538|[5506394, 6170161...|        32|\n",
      "| 41751|[41811068, 60873111]|         2|\n",
      "+------+--------------------+----------+\n",
      "only showing top 3 rows\n",
      "\n"
     ]
    }
   ],
   "source": [
    "reversedGraph = reversedGraph.where(reversedGraph.users_size > '1')\n",
    "reversedGraph.show(3)"
   ]
  },
  {
   "cell_type": "markdown",
   "metadata": {},
   "source": [
    "<p>6. for each row emit all possible ordered pairs of users from the column “users”<br>\n",
    "(tip: write a user defined function for this)</p>"
   ]
  },
  {
   "cell_type": "code",
   "execution_count": null,
   "metadata": {},
   "outputs": [],
   "source": [
    "def user_pairs(users):\n",
    "    for element in users:\n",
    "        \n",
    "    user_agent = re.sub(\"/?[\\d_.]+\", \"\", user_agent)\n",
    "    user_agent = re.sub(\"[;\\(\\):,]\", \"\", user_agent)\n",
    "    user_agent = user_agent.lower()\n",
    "    user_agent = user_agent.split()\n",
    "return user_agent\n",
    "parse_user_agent_udf = f.udf(parse_user_agent, t.ArrayType(t.StringType()))"
   ]
  }
 ],
 "metadata": {
  "kernelspec": {
   "display_name": "Python 2",
   "language": "python",
   "name": "python2"
  },
  "language_info": {
   "codemirror_mode": {
    "name": "ipython",
    "version": 2
   },
   "file_extension": ".py",
   "mimetype": "text/x-python",
   "name": "python",
   "nbconvert_exporter": "python",
   "pygments_lexer": "ipython2",
   "version": "2.7.12"
  }
 },
 "nbformat": 4,
 "nbformat_minor": 2
}
